{
 "cells": [
  {
   "cell_type": "code",
   "execution_count": 4,
   "metadata": {},
   "outputs": [
    {
     "ename": "NameError",
     "evalue": "name 'Rotation' is not defined",
     "output_type": "error",
     "traceback": [
      "\u001b[1;31m---------------------------------------------------------------------------\u001b[0m",
      "\u001b[1;31mNameError\u001b[0m                                 Traceback (most recent call last)",
      "\u001b[1;32mc:\\Users\\pedro\\OneDrive\\Documenten\\Maastricht Work\\Rep\\XR2Learn-Training\\SSL_Training\\SSL_Audio_Modality\\ssl_audio_modality\\utils\\augmentations\\test_augmentations_1d.ipynb Cell 1\u001b[0m line \u001b[0;36m3\n\u001b[0;32m     <a href='vscode-notebook-cell:/c%3A/Users/pedro/OneDrive/Documenten/Maastricht%20Work/Rep/XR2Learn-Training/SSL_Training/SSL_Audio_Modality/ssl_audio_modality/utils/augmentations/test_augmentations_1d.ipynb#W0sZmlsZQ%3D%3D?line=18'>19</a>\u001b[0m wave \u001b[39m=\u001b[39m wave\u001b[39m.\u001b[39munsqueeze(\u001b[39m0\u001b[39m)\n\u001b[0;32m     <a href='vscode-notebook-cell:/c%3A/Users/pedro/OneDrive/Documenten/Maastricht%20Work/Rep/XR2Learn-Training/SSL_Training/SSL_Audio_Modality/ssl_audio_modality/utils/augmentations/test_augmentations_1d.ipynb#W0sZmlsZQ%3D%3D?line=20'>21</a>\u001b[0m \u001b[39m# Define augmentations\u001b[39;00m\n\u001b[0;32m     <a href='vscode-notebook-cell:/c%3A/Users/pedro/OneDrive/Documenten/Maastricht%20Work/Rep/XR2Learn-Training/SSL_Training/SSL_Audio_Modality/ssl_audio_modality/utils/augmentations/test_augmentations_1d.ipynb#W0sZmlsZQ%3D%3D?line=21'>22</a>\u001b[0m augmentations \u001b[39m=\u001b[39m [\n\u001b[0;32m     <a href='vscode-notebook-cell:/c%3A/Users/pedro/OneDrive/Documenten/Maastricht%20Work/Rep/XR2Learn-Training/SSL_Training/SSL_Audio_Modality/ssl_audio_modality/utils/augmentations/test_augmentations_1d.ipynb#W0sZmlsZQ%3D%3D?line=22'>23</a>\u001b[0m     (\u001b[39m\"\u001b[39m\u001b[39mReverse\u001b[39m\u001b[39m\"\u001b[39m, Reverse()),\n\u001b[0;32m     <a href='vscode-notebook-cell:/c%3A/Users/pedro/OneDrive/Documenten/Maastricht%20Work/Rep/XR2Learn-Training/SSL_Training/SSL_Audio_Modality/ssl_audio_modality/utils/augmentations/test_augmentations_1d.ipynb#W0sZmlsZQ%3D%3D?line=23'>24</a>\u001b[0m     (\u001b[39m\"\u001b[39m\u001b[39mSignFlip\u001b[39m\u001b[39m\"\u001b[39m, SignFlip()),\n\u001b[0;32m     <a href='vscode-notebook-cell:/c%3A/Users/pedro/OneDrive/Documenten/Maastricht%20Work/Rep/XR2Learn-Training/SSL_Training/SSL_Audio_Modality/ssl_audio_modality/utils/augmentations/test_augmentations_1d.ipynb#W0sZmlsZQ%3D%3D?line=24'>25</a>\u001b[0m     (\u001b[39m\"\u001b[39m\u001b[39mGaussianNoise\u001b[39m\u001b[39m\"\u001b[39m,GaussianNoise(\u001b[39m1\u001b[39m,\u001b[39m0.3\u001b[39m)),\n\u001b[0;32m     <a href='vscode-notebook-cell:/c%3A/Users/pedro/OneDrive/Documenten/Maastricht%20Work/Rep/XR2Learn-Training/SSL_Training/SSL_Audio_Modality/ssl_audio_modality/utils/augmentations/test_augmentations_1d.ipynb#W0sZmlsZQ%3D%3D?line=25'>26</a>\u001b[0m     (\u001b[39m\"\u001b[39m\u001b[39mScale\u001b[39m\u001b[39m\"\u001b[39m,Scale(\u001b[39m5\u001b[39m)),\n\u001b[0;32m     <a href='vscode-notebook-cell:/c%3A/Users/pedro/OneDrive/Documenten/Maastricht%20Work/Rep/XR2Learn-Training/SSL_Training/SSL_Audio_Modality/ssl_audio_modality/utils/augmentations/test_augmentations_1d.ipynb#W0sZmlsZQ%3D%3D?line=26'>27</a>\u001b[0m     (\u001b[39m\"\u001b[39m\u001b[39mZeroMasking\u001b[39m\u001b[39m\"\u001b[39m,ZeroMasking(\u001b[39m25\u001b[39m)),\n\u001b[0;32m     <a href='vscode-notebook-cell:/c%3A/Users/pedro/OneDrive/Documenten/Maastricht%20Work/Rep/XR2Learn-Training/SSL_Training/SSL_Audio_Modality/ssl_audio_modality/utils/augmentations/test_augmentations_1d.ipynb#W0sZmlsZQ%3D%3D?line=27'>28</a>\u001b[0m     (\u001b[39m\"\u001b[39m\u001b[39mPermutation\u001b[39m\u001b[39m\"\u001b[39m,Permutation(max_segments\u001b[39m=\u001b[39m\u001b[39m7\u001b[39m,min_segments\u001b[39m=\u001b[39m\u001b[39m3\u001b[39m)),\n\u001b[0;32m     <a href='vscode-notebook-cell:/c%3A/Users/pedro/OneDrive/Documenten/Maastricht%20Work/Rep/XR2Learn-Training/SSL_Training/SSL_Audio_Modality/ssl_audio_modality/utils/augmentations/test_augmentations_1d.ipynb#W0sZmlsZQ%3D%3D?line=28'>29</a>\u001b[0m     (\u001b[39m\"\u001b[39m\u001b[39mTimeWarping\u001b[39m\u001b[39m\"\u001b[39m,TimeWarping(num_segments\u001b[39m=\u001b[39m\u001b[39m4\u001b[39m,warp_factor\u001b[39m=\u001b[39m\u001b[39m1.5\u001b[39m)),\n\u001b[0;32m     <a href='vscode-notebook-cell:/c%3A/Users/pedro/OneDrive/Documenten/Maastricht%20Work/Rep/XR2Learn-Training/SSL_Training/SSL_Audio_Modality/ssl_audio_modality/utils/augmentations/test_augmentations_1d.ipynb#W0sZmlsZQ%3D%3D?line=29'>30</a>\u001b[0m     (\u001b[39m\"\u001b[39m\u001b[39mTimeShifting\u001b[39m\u001b[39m\"\u001b[39m,TimeShifting(\u001b[39m25\u001b[39m)),\n\u001b[1;32m---> <a href='vscode-notebook-cell:/c%3A/Users/pedro/OneDrive/Documenten/Maastricht%20Work/Rep/XR2Learn-Training/SSL_Training/SSL_Audio_Modality/ssl_audio_modality/utils/augmentations/test_augmentations_1d.ipynb#W0sZmlsZQ%3D%3D?line=30'>31</a>\u001b[0m     (\u001b[39m\"\u001b[39m\u001b[39mRotation\u001b[39m\u001b[39m\"\u001b[39m,Rotation()),\n\u001b[0;32m     <a href='vscode-notebook-cell:/c%3A/Users/pedro/OneDrive/Documenten/Maastricht%20Work/Rep/XR2Learn-Training/SSL_Training/SSL_Audio_Modality/ssl_audio_modality/utils/augmentations/test_augmentations_1d.ipynb#W0sZmlsZQ%3D%3D?line=31'>32</a>\u001b[0m ]\n\u001b[0;32m     <a href='vscode-notebook-cell:/c%3A/Users/pedro/OneDrive/Documenten/Maastricht%20Work/Rep/XR2Learn-Training/SSL_Training/SSL_Audio_Modality/ssl_audio_modality/utils/augmentations/test_augmentations_1d.ipynb#W0sZmlsZQ%3D%3D?line=33'>34</a>\u001b[0m \u001b[39m# Create multi-plot using Seaborn\u001b[39;00m\n\u001b[0;32m     <a href='vscode-notebook-cell:/c%3A/Users/pedro/OneDrive/Documenten/Maastricht%20Work/Rep/XR2Learn-Training/SSL_Training/SSL_Audio_Modality/ssl_audio_modality/utils/augmentations/test_augmentations_1d.ipynb#W0sZmlsZQ%3D%3D?line=34'>35</a>\u001b[0m sns\u001b[39m.\u001b[39mset(style\u001b[39m=\u001b[39m\u001b[39m\"\u001b[39m\u001b[39mdarkgrid\u001b[39m\u001b[39m\"\u001b[39m)\n",
      "\u001b[1;31mNameError\u001b[0m: name 'Rotation' is not defined"
     ]
    }
   ],
   "source": [
    "import torch\n",
    "import seaborn as sns\n",
    "import matplotlib.pyplot as plt\n",
    "from base_augmentations import *\n",
    "from signal_augmentations import *\n",
    "\n",
    "# Generate random sine wave\n",
    "num_points = 100\n",
    "time = torch.linspace(0, 11, num_points)\n",
    "amplitude = torch.rand(1) * 2 + 1\n",
    "frequency = torch.rand(1) * 4 + 2\n",
    "wave = torch.sin(frequency * time) * amplitude\n",
    "\n",
    "time = torch.linspace(0, 11, num_points)\n",
    "amplitude = torch.rand(1) * 2 + 1\n",
    "frequency = torch.rand(1) * 2 + 2\n",
    "wave = wave+torch.sin(frequency * time) * amplitude\n",
    "\n",
    "wave = wave.unsqueeze(0)\n",
    "\n",
    "# Define augmentations\n",
    "augmentations = [\n",
    "    (\"Reverse\", Reverse()),\n",
    "    (\"SignFlip\", SignFlip()),\n",
    "    (\"GaussianNoise\",GaussianNoise(1,0.3)),\n",
    "    (\"Scale\",Scale(5)),\n",
    "    (\"ZeroMasking\",ZeroMasking(25)),\n",
    "    (\"Permutation\",Permutation(max_segments=7,min_segments=3)),\n",
    "    (\"TimeWarping\",TimeWarping(num_segments=4,warp_factor=1.5)),\n",
    "    (\"TimeShifting\",TimeShifting(25)),\n",
    "]\n",
    "\n",
    "# Create multi-plot using Seaborn\n",
    "sns.set(style=\"darkgrid\")\n",
    "\n",
    "# Plot original wave\n",
    "plt.figure(figsize=(12, 14))\n",
    "plt.subplot(len(augmentations) + 1, 1, 1)\n",
    "plt.plot(time, wave.numpy()[0], color='b')\n",
    "plt.title('Original Wave')\n",
    "\n",
    "# Apply augmentations and plot\n",
    "for i, (aug_name, aug) in enumerate(augmentations):\n",
    "    augmented_wave = aug(wave)\n",
    "    \n",
    "    plt.subplot(len(augmentations) + 1, 1, i + 2)\n",
    "    plt.plot(time, augmented_wave.numpy()[0], color='r')\n",
    "    plt.title(aug_name + ' Augmentation')\n",
    "\n",
    "# Display the plot\n",
    "#plt.tight_layout()\n",
    "plt.show()\n",
    "#sanity check to see if the original wave was not destructed\n",
    "#plt.plot(time, wave.numpy()[0], color='b')\n"
   ]
  }
 ],
 "metadata": {
  "kernelspec": {
   "display_name": "mm-em-rec",
   "language": "python",
   "name": "python3"
  },
  "language_info": {
   "codemirror_mode": {
    "name": "ipython",
    "version": 3
   },
   "file_extension": ".py",
   "mimetype": "text/x-python",
   "name": "python",
   "nbconvert_exporter": "python",
   "pygments_lexer": "ipython3",
   "version": "3.11.4"
  },
  "orig_nbformat": 4
 },
 "nbformat": 4,
 "nbformat_minor": 2
}
